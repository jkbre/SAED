{
 "cells": [
  {
   "cell_type": "code",
   "execution_count": null,
   "metadata": {},
   "outputs": [],
   "source": [
    "import pandas as pd\n",
    "import urllib.request\n",
    "import zipfile\n",
    "\n",
    "url = \"https://stat.gov.pl/download/gfx/portalinformacyjny/pl/defaultaktualnosci/5515/3/16/1/rd_2022_tablice.zip\"\n",
    "zipped = \"rd_2022_tablice.zip\"\n",
    "file = \"03_ludnoså_struktura wg wieku_RD'2022.xls\"\n",
    "\n",
    "urllib.request.urlretrieve(url, zipped)\n",
    "with zipfile.ZipFile(zipped, \"r\") as zip_ref:\n",
    "    zip_ref.extract(file, \".\")\n",
    "    \n",
    "df = pd.read_excel(file, sheet_name='Tabl. 15', skiprows=7, usecols=[0, 2, 3],na_filter=False)\n",
    "new_rows = []\n",
    "for index, row in df.iterrows():\n",
    "    if isinstance(row[0], int):\n",
    "        new_rows.append(row)\n",
    "        \n",
    "df = pd.DataFrame(new_rows, columns=df.columns)\n",
    "df = df.set_axis(['age', 'males', 'females'], axis=1).reset_index(drop=True)\n",
    "df['Stosunek'] = df['males'] / df['females']"
   ]
  },
  {
   "cell_type": "code",
   "execution_count": null,
   "metadata": {},
   "outputs": [],
   "source": [
    "import matplotlib.pyplot as plt\n",
    "\n",
    "df['Stosunek'].plot(kind='line', figsize=(10, 6))\n",
    "plt.title('Gender balance as a function of age')\n",
    "plt.xlabel('Age')\n",
    "plt.ylabel('Men to women number ratio')\n",
    "plt.savefig('graph.pdf')\n",
    "plt.show()\n"
   ]
  }
 ],
 "metadata": {
  "language_info": {
   "name": "python"
  }
 },
 "nbformat": 4,
 "nbformat_minor": 2
}

{
 "cells": [
  {
   "cell_type": "code",
   "execution_count": 21,
   "metadata": {},
   "outputs": [
    {
     "name": "stdout",
     "output_type": "stream",
     "text": [
      "0.584629\n"
     ]
    }
   ],
   "source": [
    "import random\n",
    "\n",
    "n = int(10e5)\n",
    "hit = 0\n",
    "l = 3\n",
    "r = 1.5\n",
    "for _ in range(n):\n",
    "    x, y, z = (\n",
    "        random.uniform(-l / 2, l / 2),\n",
    "        random.uniform(-l / 2, l / 2),\n",
    "        random.uniform(-l / 2, l / 2),\n",
    "    )\n",
    "    if (\n",
    "        x**2 + y**2 <= r**2\n",
    "        and y**2 + z**2 <= r**2\n",
    "        and z**2 + x**2 <= r**2\n",
    "    ):\n",
    "        hit += 1\n",
    "V = hit / n\n",
    "print(V)"
   ]
  }
 ],
 "metadata": {
  "kernelspec": {
   "display_name": "Python 3",
   "language": "python",
   "name": "python3"
  },
  "language_info": {
   "codemirror_mode": {
    "name": "ipython",
    "version": 3
   },
   "file_extension": ".py",
   "mimetype": "text/x-python",
   "name": "python",
   "nbconvert_exporter": "python",
   "pygments_lexer": "ipython3",
   "version": "3.9.7"
  }
 },
 "nbformat": 4,
 "nbformat_minor": 2
}

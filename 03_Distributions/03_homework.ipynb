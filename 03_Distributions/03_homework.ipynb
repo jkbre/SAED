{
    "cells": [
        {
            "cell_type": "code",
            "execution_count": 4,
            "metadata": {},
            "outputs": [],
            "source": [
                "import random\n",
                "\n",
                "def roll_dice(n):\n",
                "    # definition of rolling a six side dice\n",
                "    return [random.randint(1, 6) for _ in range(n)]\n",
                "\n",
                "def simulate_decay(dice):\n",
                "    step = 0\n",
                "    while dice > 0:\n",
                "        step += 1\n",
                "        rolls = roll_dice(dice)\n",
                "        dice -= rolls.count(1)\n",
                "    return step\n"
            ]
        },
        {
            "cell_type": "code",
            "execution_count": 7,
            "metadata": {},
            "outputs": [
                {
                    "name": "stdout",
                    "output_type": "stream",
                    "text": [
                        "Average number of steps: 45.094\n"
                    ]
                }
            ],
            "source": [
                "n0 = 2000\n",
                "experiments = 1000\n",
                "\n",
                "total_steps = sum(simulate_decay(n0) for _ in range(experiments))\n",
                "average_steps = total_steps / experiments\n",
                "\n",
                "print(\"Average number of steps: {}\".format(average_steps))"
            ]
        }
    ],
    "metadata": {
        "kernelspec": {
            "display_name": "Python 3",
            "language": "python",
            "name": "python3"
        }
    },
    "nbformat": 4,
    "nbformat_minor": 2
}

{
  "cells": [
    {
      "cell_type": "code",
      "execution_count": 2,
      "metadata": {
        "id": "SquRcHPe_LeN"
      },
      "outputs": [],
      "source": [
        "import numpy as np\n",
        "import matplotlib.pyplot as plt\n",
        "import scipy.stats as stats\n",
        "from scipy.optimize import curve_fit"
      ]
    },
    {
      "cell_type": "code",
      "execution_count": 3,
      "metadata": {
        "id": "kBY1eUXnBuOG"
      },
      "outputs": [
        {
          "name": "stdout",
          "output_type": "stream",
          "text": [
            "The value of C: 0.0009393452174446537 and sigma: 0.04577518746263582\n",
            "Estimated probability: 0.0026997960632601965\n"
          ]
        },
        {
          "data": {
            "image/png": "[encoded data removed]",
            "text/plain": [
              "<Figure size 500x300 with 1 Axes>"
            ]
          },
          "metadata": {},
          "output_type": "display_data"
        }
      ],
      "source": [
        "N = 8\n",
        "mu = 5\n",
        "sigma = 0.1\n",
        "x_model = np.linspace(-1, 1, N)\n",
        "b_model = np.random.normal(mu, sigma, N)\n",
        "\n",
        "\n",
        "def funcBackground(x, A):\n",
        "    if isinstance(x, int) or isinstance(x, float):\n",
        "        return A\n",
        "    else:\n",
        "        return A * np.ones(len(x))\n",
        "\n",
        "\n",
        "def funcBackgroundSignal(x, B, C):\n",
        "    return B + C * np.sin(np.pi * x)\n",
        "\n",
        "\n",
        "b_params, b_covariance = curve_fit(funcBackground, x_model, b_model)\n",
        "A_est = b_params[0]\n",
        "\n",
        "bs_params, bs_cov = curve_fit(funcBackgroundSignal, x_model, b_model)\n",
        "C_est = bs_params[1]\n",
        "B_est = bs_params[0]\n",
        "sigma_C = np.sqrt(bs_cov[1, 1])\n",
        "\n",
        "print(f\"The value of C: {C_est} and sigma: {sigma_C}\")\n",
        "prob = stats.norm.cdf(-3 * sigma_C, 0, sigma_C) + (\n",
        "    1 - stats.norm.cdf(3 * sigma_C, 0, sigma_C)\n",
        ")\n",
        "print(f\"Estimated probability: {prob}\")\n",
        "\n",
        "\n",
        "x = np.linspace(-1, 1, 100)\n",
        "b_values = funcBackground(x, A_est)\n",
        "bs_values = funcBackgroundSignal(x, B_est, C_est)\n",
        "\n",
        "plt.figure(figsize=(5, 3))\n",
        "plt.errorbar(x_model, b_model, yerr=sigma, fmt=\"o\", capsize=2)\n",
        "plt.plot(x, bs_values, color=\"purple\")\n",
        "plt.plot(x, b_values, color=\"red\")\n",
        "plt.xlabel(\"x\")\n",
        "plt.ylabel(\"y(x)\")\n",
        "plt.grid(True)\n",
        "plt.show()"
      ]
    },
    {
      "cell_type": "code",
      "execution_count": 4,
      "metadata": {
        "colab": {
          "base_uri": "https://localhost:8080/"
        },
        "id": "-6q8BLY7FrAQ",
        "outputId": "e1d07252-2f32-499e-85f4-9e185a42c40e"
      },
      "outputs": [
        {
          "name": "stdout",
          "output_type": "stream",
          "text": [
            "Simulated probability: 0.022\n"
          ]
        }
      ],
      "source": [
        "iterations = 1000\n",
        "count = 0\n",
        "\n",
        "N = 8\n",
        "mu = 5\n",
        "sigma = 0.1\n",
        "x_model = np.linspace(-1, 1, N)\n",
        "\n",
        "\n",
        "def funcBackgroundSignal(x, B, C):\n",
        "    return B + C * np.sin(np.pi * x)\n",
        "\n",
        "\n",
        "C_test = []\n",
        "C_test_std = []\n",
        "\n",
        "for _ in range(iterations):\n",
        "    # data = np.random.uniform(mu - np.sqrt(3) * sigma, mu + np.sqrt(3) * sigma, N)\n",
        "    mc_data = np.random.normal(mu, sigma, N)\n",
        "\n",
        "    bs_params, bs_cov = curve_fit(funcBackgroundSignal, x_model, mc_data)\n",
        "    C_sim = bs_params[1]\n",
        "    C_test.append(C_sim)\n",
        "    sigma_C_sim = np.sqrt(bs_cov[1, 1])\n",
        "    C_test_std.append(sigma_C_sim)\n",
        "\n",
        "    if abs(C_sim) > 3 * sigma_C_sim:\n",
        "        count += 1\n",
        "\n",
        "prob_sim = count / iterations\n",
        "print(f\"Simulated probability: {prob_sim}\")"
      ]
    }
  ],
  "metadata": {
    "colab": {
      "provenance": []
    },
    "kernelspec": {
      "display_name": "Python 3",
      "name": "python3"
    },
    "language_info": {
      "codemirror_mode": {
        "name": "ipython",
        "version": 3
      },
      "file_extension": ".py",
      "mimetype": "text/x-python",
      "name": "python",
      "nbconvert_exporter": "python",
      "pygments_lexer": "ipython3",
      "version": "3.11.7"
    }
  },
  "nbformat": 4,
  "nbformat_minor": 0
}

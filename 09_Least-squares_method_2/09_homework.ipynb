{
 "cells": [
  {
   "cell_type": "code",
   "execution_count": 5,
   "metadata": {},
   "outputs": [],
   "source": [
    "from scipy.stats import norm, uniform\n",
    "import numpy as np\n",
    "import matplotlib.pyplot as plt"
   ]
  },
  {
   "cell_type": "code",
   "execution_count": 3,
   "metadata": {},
   "outputs": [],
   "source": [
    "N = 8\n",
    "mu = 5\n",
    "sigma = 0.1"
   ]
  },
  {
   "cell_type": "code",
   "execution_count": null,
   "metadata": {},
   "outputs": [],
   "source": [
    "def datab(x, A):\n",
    "    return A\n",
    "\n",
    "\n",
    "def databs(x, B, C):\n",
    "    return B + C * np.sin(np.pi * x)"
   ]
  },
  {
   "cell_type": "code",
   "execution_count": null,
   "metadata": {},
   "outputs": [],
   "source": [
    "x = np.linspace(-1, 1, 8)\n",
    "yb = datab(x, mu)\n",
    "\n",
    "uni = uniform(-1, 1, N)"
   ]
  },
  {
   "cell_type": "code",
   "execution_count": 18,
   "metadata": {},
   "outputs": [
    {
     "name": "stdout",
     "output_type": "stream",
     "text": [
      "Estimated probability: 0.9511989745839187\n"
     ]
    }
   ],
   "source": [
    "p = 2 * (1 - norm.isf(3 * sigma))\n",
    "print(f\"Estimated probability: {p}\")"
   ]
  },
  {
   "cell_type": "code",
   "execution_count": 9,
   "metadata": {},
   "outputs": [
    {
     "name": "stdout",
     "output_type": "stream",
     "text": [
      "Estimated probability: 1\n",
      "Probability from Monte Carlo simulation: 0.4968\n"
     ]
    }
   ],
   "source": [
    "import numpy as np\n",
    "from scipy.optimize import curve_fit\n",
    "import matplotlib.pyplot as plt\n",
    "\n",
    "\n",
    "# Define the background only and background+signal models\n",
    "def background_only(x, A):\n",
    "    return A\n",
    "\n",
    "\n",
    "def background_signal(x, B, C):\n",
    "    return B + C * np.sin(np.pi * x)\n",
    "\n",
    "\n",
    "# Generate N=8 measurements from a uniform background model\n",
    "N = 8\n",
    "mu = 5\n",
    "sigma = 0.1\n",
    "x = np.linspace(0, 1, N)\n",
    "y = np.random.normal(mu, sigma, N)\n",
    "\n",
    "# Fit the models to the data\n",
    "popt_b, pcov_b = curve_fit(background_only, x, y)\n",
    "popt_bs, pcov_bs = curve_fit(background_signal, x, y)\n",
    "\n",
    "# Calculate the standard deviation of the fitted C values\n",
    "std_C = np.sqrt(pcov_bs[1, 1])\n",
    "\n",
    "\n",
    "# Verify this estimate with a Monte Carlo simulation\n",
    "num_simulations = 10000\n",
    "count = 0\n",
    "for _ in range(num_simulations):\n",
    "    y_sim = np.random.normal(background_signal(x, *popt_bs), sigma, N)\n",
    "    popt_bs_sim, pcov_bs_sim = curve_fit(background_signal, x, y_sim)\n",
    "    if np.abs(popt_bs_sim[1]) > std_C:\n",
    "        count += 1\n",
    "prob_sim = count / num_simulations\n",
    "\n",
    "\n",
    "print(f\"Probability from Monte Carlo simulation: {prob_sim}\")"
   ]
  }
 ],
 "metadata": {
  "kernelspec": {
   "display_name": "base",
   "language": "python",
   "name": "python3"
  },
  "language_info": {
   "codemirror_mode": {
    "name": "ipython",
    "version": 3
   },
   "file_extension": ".py",
   "mimetype": "text/x-python",
   "name": "python",
   "nbconvert_exporter": "python",
   "pygments_lexer": "ipython3",
   "version": "3.11.7"
  }
 },
 "nbformat": 4,
 "nbformat_minor": 2
}

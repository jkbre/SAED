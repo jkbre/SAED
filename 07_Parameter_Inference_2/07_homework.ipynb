{
 "cells": [
  {
   "cell_type": "code",
   "execution_count": 2,
   "metadata": {},
   "outputs": [
    {
     "data": {
      "text/plain": [
       "(0.2724663434065812, 2.191818267435581)"
      ]
     },
     "execution_count": 2,
     "metadata": {},
     "output_type": "execute_result"
    }
   ],
   "source": [
    "import scipy.stats as stats\n",
    "\n",
    "# Given values\n",
    "E_best = 1  # GeV\n",
    "mean = E_best\n",
    "variance = 0.25 * E_best  # GeV^2\n",
    "\n",
    "# Calculate parameters for the gamma distribution\n",
    "shape = (mean**2) / variance\n",
    "scale = variance / mean\n",
    "\n",
    "# Calculate the 95% confidence interval\n",
    "lower_limit = stats.gamma.ppf(0.025, shape, scale=scale)\n",
    "upper_limit = stats.gamma.ppf(0.975, shape, scale=scale)\n",
    "\n",
    "(lower_limit, upper_limit)"
   ]
  }
 ],
 "metadata": {
  "kernelspec": {
   "display_name": "base",
   "language": "python",
   "name": "python3"
  },
  "language_info": {
   "codemirror_mode": {
    "name": "ipython",
    "version": 3
   },
   "file_extension": ".py",
   "mimetype": "text/x-python",
   "name": "python",
   "nbconvert_exporter": "python",
   "pygments_lexer": "ipython3",
   "version": "3.11.5"
  }
 },
 "nbformat": 4,
 "nbformat_minor": 2
}

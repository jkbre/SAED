{
 "cells": [
  {
   "cell_type": "code",
   "execution_count": 1,
   "metadata": {},
   "outputs": [
    {
     "name": "stdout",
     "output_type": "stream",
     "text": [
      "95% CL upper limit: 3.8336800177056656\n",
      "Probability of a true variance being greater than the upper limit (Monte Carlo): 0.04476\n"
     ]
    }
   ],
   "source": [
    "import numpy as np\n",
    "from scipy.stats import gamma\n",
    "\n",
    "sample_size = 10\n",
    "df = sample_size - 1\n",
    "sample_variance = 2\n",
    "\n",
    "upper_limit = df * sample_variance / gamma.ppf(0.05, df)\n",
    "print(f\"95% CL upper limit: {upper_limit}\")\n",
    "\n",
    "np.random.seed(0)\n",
    "n_simulations = 100000\n",
    "count = 0\n",
    "\n",
    "for _ in range(n_simulations):\n",
    "    sample = np.random.normal(0, np.sqrt(sample_variance), sample_size)\n",
    "    if np.var(sample, ddof=1) > upper_limit:\n",
    "        count += 1\n",
    "\n",
    "probability = count / n_simulations\n",
    "print(\n",
    "    f\"Probability of a true variance being greater than the upper limit (Monte Carlo): {probability}\"\n",
    ")"
   ]
  }
 ],
 "metadata": {
  "kernelspec": {
   "display_name": "base",
   "language": "python",
   "name": "python3"
  },
  "language_info": {
   "codemirror_mode": {
    "name": "ipython",
    "version": 3
   },
   "file_extension": ".py",
   "mimetype": "text/x-python",
   "name": "python",
   "nbconvert_exporter": "python",
   "pygments_lexer": "ipython3",
   "version": "3.11.5"
  }
 },
 "nbformat": 4,
 "nbformat_minor": 2
}

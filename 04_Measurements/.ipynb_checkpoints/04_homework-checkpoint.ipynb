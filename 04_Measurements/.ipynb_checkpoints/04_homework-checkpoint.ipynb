{
 "cells": [
  {
   "cell_type": "code",
   "execution_count": 31,
   "metadata": {},
   "outputs": [],
   "source": [
    "import numpy as np\n",
    "from scipy.optimize import fsolve\n",
    "\n",
    "# Constants\n",
    "l = 1500 # mm\n",
    "w = 1000 # mm\n",
    "std_l = 0.6 # mm\n",
    "std_w = 0.3 # mm\n",
    "goal_std = 300  #mm^2\n"
   ]
  },
  {
   "cell_type": "code",
   "execution_count": 44,
   "metadata": {},
   "outputs": [
    {
     "name": "stdout",
     "output_type": "stream",
     "text": [
      "Expected tolerance for the surface of the table: 7.500 cm^2\n"
     ]
    }
   ],
   "source": [
    "var_A = l**2 * std_w**2 + w**2 * std_l**2 + std_l**2 * std_w**2\n",
    "std_A = np.sqrt(var_A)\n",
    "print(\"Expected tolerance for the surface of the table: {:.3f} cm^2\".format(std_A/1e2))\n"
   ]
  },
  {
   "cell_type": "code",
   "execution_count": 43,
   "metadata": {},
   "outputs": [
    {
     "name": "stdout",
     "output_type": "stream",
     "text": [
      "Correlation between l and w: -0.875\n"
     ]
    }
   ],
   "source": [
    "def equation(rho):\n",
    "    return np.sqrt(l**2 * std_w**2 + w**2 * std_l**2 + 2 * rho * l * w * std_l * std_w + std_l**2 * std_w**2) - goal_std\n",
    "rho = fsolve(equation, 0)[0]\n",
    "print(\"Correlation between l and w: {:.3f}\".format(rho))\n"
   ]
  },
  {
   "cell_type": "code",
   "execution_count": 48,
   "metadata": {},
   "outputs": [
    {
     "name": "stdout",
     "output_type": "stream",
     "text": [
      "Standard deviation from numerical experiment: 2.995 cm^2\n"
     ]
    }
   ],
   "source": [
    "mean = [l, w]\n",
    "cov = [[std_l**2, rho * std_l * std_w], [rho * std_l * std_w, std_w**2]]\n",
    "samples = np.random.multivariate_normal(mean, cov, 10000)\n",
    "A_samples = samples[:, 0] * samples[:, 1]\n",
    "std_A_samples = np.std(A_samples)\n",
    "print(\"Standard deviation from numerical experiment: {:.3f} cm^2\".format(std_A_samples / 1e2))  # convert to cm^2\n"
   ]
  }
 ],
 "metadata": {
  "kernelspec": {
   "display_name": "Python 3",
   "language": "python",
   "name": "python3"
  },
  "language_info": {
   "codemirror_mode": {
    "name": "ipython",
    "version": 3
   },
   "file_extension": ".py",
   "mimetype": "text/x-python",
   "name": "python",
   "nbconvert_exporter": "python",
   "pygments_lexer": "ipython3",
   "version": "3.9.7"
  }
 },
 "nbformat": 4,
 "nbformat_minor": 2
}
